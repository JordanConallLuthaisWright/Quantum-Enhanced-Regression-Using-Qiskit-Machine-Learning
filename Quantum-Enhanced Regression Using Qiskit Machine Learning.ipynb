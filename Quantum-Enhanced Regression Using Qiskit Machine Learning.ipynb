{
 "cells": [
  {
   "cell_type": "markdown",
   "id": "eed0a79d-a93d-4b7b-9fab-060f48bd0dab",
   "metadata": {},
   "source": [
    "# Implementation of Quantum Support Vector Regression (QSVM) and Quantum Neural Networks (QNN) for Sinusoidal Function Approximation Using Qiskit"
   ]
  },
  {
   "cell_type": "markdown",
   "id": "33ad793f-a85b-4760-9bcf-fa4d9fe2fd72",
   "metadata": {},
   "source": [
    "***This project investigates the implementation of quantum-enhanced regression using Qiskit Machine Learning. The objective is to explore how quantum computing can be leveraged for regression tasks, specifically through Quantum Support Vector Regression (QSVM) and Quantum Neural Networks (QNNs). The focus is on improving traditional regression methods by utilizing quantum feature encoding and variational circuits.***"
   ]
  },
  {
   "cell_type": "markdown",
   "id": "2939f534-fceb-41d4-927c-ffd933809eac",
   "metadata": {},
   "source": [
    "### **Introduction**"
   ]
  },
  {
   "cell_type": "markdown",
   "id": "0b1375a4-e7c5-405a-9255-b7b7f515c12c",
   "metadata": {},
   "source": [
    "The rapid advancements in quantum computing have paved the way for quantum-enhanced machine learning models, which have the potential to outperform classical approaches in specific domains. This project explores the application of Quantum Support Vector Regression (QSVM) and Quantum Neural Networks (QNNs) for regression tasks, leveraging Qiskit Machine Learning to approximate a non-linear sinusoidal function. The primary objective is to investigate the efficacy of quantum feature mapping and variational quantum circuits in modeling complex patterns in noisy data."
   ]
  },
  {
   "cell_type": "markdown",
   "id": "deb3477f-6d80-4d5a-bbaa-85ec6c416914",
   "metadata": {},
   "source": [
    "### **Project Methodology**"
   ]
  },
  {
   "cell_type": "markdown",
   "id": "03bc0a08-3460-4967-ba90-a2f255a2d7a2",
   "metadata": {},
   "source": [
    "##### **1. Data Generation**\n",
    "A synthetic dataset is generated to mimic real-world noisy regression tasks. The input variable \\( X \\) is uniformly sampled within the range **[-π, π]**, and the target function is defined as:\n",
    "\n",
    "\\[\n",
    "f(x) = \\sin(x) + \\epsilon\n",
    "\\]\n",
    "\n",
    "where **\\( \\epsilon \\)** represents Gaussian noise with a predefined variance of **0.2** to introduce randomness. The dataset consists of **20 training samples** and an additional **50 points** for visualization.\n",
    "\n",
    "##### **2. Quantum Feature Encoding**\n",
    "- Classical data is mapped into a quantum Hilbert space using a **feature map circuit** based on **single-qubit rotation gates**.\n",
    "- The selected feature map utilizes the **ZZFeatureMap**, which introduces entanglement to capture non-linear relationships in the data.\n",
    "\n",
    "##### **3. Quantum Regression Model Development**\n",
    "- A **Quantum Neural Network (QNN)** is constructed using a hybrid approach that integrates a **variational quantum circuit (VQC)** as the trainable model.\n",
    "- The regression model is built using **EstimatorQNN**, where trainable weights are optimized through **classical gradient-based optimizers** such as **COBYLA** and **L-BFGS-B**.\n",
    "- The **Variational Ansatz**, which serves as the learnable component, is constructed using **parameterized rotational gates**.\n",
    "\n",
    "##### **4. Optimization and Training**\n",
    "- The model is trained using **Quantum Support Vector Regression (QSVM)** and **Quantum Neural Network Regression (QNNR)** to learn the underlying function.\n",
    "- Training involves minimizing a loss function that quantifies the deviation between predicted and actual values.\n",
    "\n",
    "##### **5. Evaluation and Performance Analysis**\n",
    "- The optimization progress is tracked using a callback function that visualizes the **objective function values over iterations**.\n",
    "- A final comparison is conducted between the quantum regression model’s predictions and the ground-truth sinusoidal function to assess approximation accuracy.\n"
   ]
  },
  {
   "cell_type": "code",
   "execution_count": 1,
   "id": "97479244-eb6b-4dbd-b150-93e4cc21e2b1",
   "metadata": {},
   "outputs": [
    {
     "name": "stdout",
     "output_type": "stream",
     "text": [
      "Requirement already satisfied: qiskit in c:\\users\\jorda\\appdata\\local\\programs\\python\\python313\\lib\\site-packages (1.4.1)\n",
      "Requirement already satisfied: rustworkx>=0.15.0 in c:\\users\\jorda\\appdata\\local\\programs\\python\\python313\\lib\\site-packages (from qiskit) (0.16.0)\n",
      "Requirement already satisfied: numpy<3,>=1.17 in c:\\users\\jorda\\appdata\\local\\programs\\python\\python313\\lib\\site-packages (from qiskit) (2.2.3)\n",
      "Requirement already satisfied: scipy>=1.5 in c:\\users\\jorda\\appdata\\local\\programs\\python\\python313\\lib\\site-packages (from qiskit) (1.15.2)\n",
      "Requirement already satisfied: sympy>=1.3 in c:\\users\\jorda\\appdata\\local\\programs\\python\\python313\\lib\\site-packages (from qiskit) (1.13.3)\n",
      "Requirement already satisfied: dill>=0.3 in c:\\users\\jorda\\appdata\\local\\programs\\python\\python313\\lib\\site-packages (from qiskit) (0.3.9)\n",
      "Requirement already satisfied: python-dateutil>=2.8.0 in c:\\users\\jorda\\appdata\\local\\programs\\python\\python313\\lib\\site-packages (from qiskit) (2.9.0.post0)\n",
      "Requirement already satisfied: stevedore>=3.0.0 in c:\\users\\jorda\\appdata\\local\\programs\\python\\python313\\lib\\site-packages (from qiskit) (5.4.1)\n",
      "Requirement already satisfied: typing-extensions in c:\\users\\jorda\\appdata\\local\\programs\\python\\python313\\lib\\site-packages (from qiskit) (4.12.2)\n",
      "Requirement already satisfied: symengine<0.14,>=0.11 in c:\\users\\jorda\\appdata\\local\\programs\\python\\python313\\lib\\site-packages (from qiskit) (0.13.0)\n",
      "Requirement already satisfied: six>=1.5 in c:\\users\\jorda\\appdata\\local\\programs\\python\\python313\\lib\\site-packages (from python-dateutil>=2.8.0->qiskit) (1.17.0)\n",
      "Requirement already satisfied: pbr>=2.0.0 in c:\\users\\jorda\\appdata\\local\\programs\\python\\python313\\lib\\site-packages (from stevedore>=3.0.0->qiskit) (6.1.1)\n",
      "Requirement already satisfied: mpmath<1.4,>=1.1.0 in c:\\users\\jorda\\appdata\\local\\programs\\python\\python313\\lib\\site-packages (from sympy>=1.3->qiskit) (1.3.0)\n",
      "Requirement already satisfied: setuptools in c:\\users\\jorda\\appdata\\local\\programs\\python\\python313\\lib\\site-packages (from pbr>=2.0.0->stevedore>=3.0.0->qiskit) (75.8.0)\n",
      "Note: you may need to restart the kernel to use updated packages.\n"
     ]
    }
   ],
   "source": [
    "pip install qiskit"
   ]
  },
  {
   "cell_type": "code",
   "execution_count": 2,
   "id": "cd30f7df-c9c2-4d41-809b-2ff458578cc5",
   "metadata": {},
   "outputs": [
    {
     "name": "stdout",
     "output_type": "stream",
     "text": [
      "Requirement already satisfied: qiskit-machine-learning in c:\\users\\jorda\\appdata\\local\\programs\\python\\python313\\lib\\site-packages (0.8.2)\n",
      "Requirement already satisfied: qiskit>=1.0 in c:\\users\\jorda\\appdata\\local\\programs\\python\\python313\\lib\\site-packages (from qiskit-machine-learning) (1.4.1)\n",
      "Requirement already satisfied: scipy>=1.4 in c:\\users\\jorda\\appdata\\local\\programs\\python\\python313\\lib\\site-packages (from qiskit-machine-learning) (1.15.2)\n",
      "Requirement already satisfied: numpy>=1.17 in c:\\users\\jorda\\appdata\\local\\programs\\python\\python313\\lib\\site-packages (from qiskit-machine-learning) (2.2.3)\n",
      "Requirement already satisfied: psutil>=5 in c:\\users\\jorda\\appdata\\local\\programs\\python\\python313\\lib\\site-packages (from qiskit-machine-learning) (7.0.0)\n",
      "Requirement already satisfied: scikit-learn>=1.2 in c:\\users\\jorda\\appdata\\local\\programs\\python\\python313\\lib\\site-packages (from qiskit-machine-learning) (1.6.1)\n",
      "Requirement already satisfied: setuptools>=40.1 in c:\\users\\jorda\\appdata\\local\\programs\\python\\python313\\lib\\site-packages (from qiskit-machine-learning) (75.8.0)\n",
      "Requirement already satisfied: dill>=0.3.4 in c:\\users\\jorda\\appdata\\local\\programs\\python\\python313\\lib\\site-packages (from qiskit-machine-learning) (0.3.9)\n",
      "Requirement already satisfied: rustworkx>=0.15.0 in c:\\users\\jorda\\appdata\\local\\programs\\python\\python313\\lib\\site-packages (from qiskit>=1.0->qiskit-machine-learning) (0.16.0)\n",
      "Requirement already satisfied: sympy>=1.3 in c:\\users\\jorda\\appdata\\local\\programs\\python\\python313\\lib\\site-packages (from qiskit>=1.0->qiskit-machine-learning) (1.13.3)\n",
      "Requirement already satisfied: python-dateutil>=2.8.0 in c:\\users\\jorda\\appdata\\local\\programs\\python\\python313\\lib\\site-packages (from qiskit>=1.0->qiskit-machine-learning) (2.9.0.post0)\n",
      "Requirement already satisfied: stevedore>=3.0.0 in c:\\users\\jorda\\appdata\\local\\programs\\python\\python313\\lib\\site-packages (from qiskit>=1.0->qiskit-machine-learning) (5.4.1)\n",
      "Requirement already satisfied: typing-extensions in c:\\users\\jorda\\appdata\\local\\programs\\python\\python313\\lib\\site-packages (from qiskit>=1.0->qiskit-machine-learning) (4.12.2)\n",
      "Requirement already satisfied: symengine<0.14,>=0.11 in c:\\users\\jorda\\appdata\\local\\programs\\python\\python313\\lib\\site-packages (from qiskit>=1.0->qiskit-machine-learning) (0.13.0)\n",
      "Requirement already satisfied: joblib>=1.2.0 in c:\\users\\jorda\\appdata\\local\\programs\\python\\python313\\lib\\site-packages (from scikit-learn>=1.2->qiskit-machine-learning) (1.4.2)\n",
      "Requirement already satisfied: threadpoolctl>=3.1.0 in c:\\users\\jorda\\appdata\\local\\programs\\python\\python313\\lib\\site-packages (from scikit-learn>=1.2->qiskit-machine-learning) (3.5.0)\n",
      "Requirement already satisfied: six>=1.5 in c:\\users\\jorda\\appdata\\local\\programs\\python\\python313\\lib\\site-packages (from python-dateutil>=2.8.0->qiskit>=1.0->qiskit-machine-learning) (1.17.0)\n",
      "Requirement already satisfied: pbr>=2.0.0 in c:\\users\\jorda\\appdata\\local\\programs\\python\\python313\\lib\\site-packages (from stevedore>=3.0.0->qiskit>=1.0->qiskit-machine-learning) (6.1.1)\n",
      "Requirement already satisfied: mpmath<1.4,>=1.1.0 in c:\\users\\jorda\\appdata\\local\\programs\\python\\python313\\lib\\site-packages (from sympy>=1.3->qiskit>=1.0->qiskit-machine-learning) (1.3.0)\n",
      "Note: you may need to restart the kernel to use updated packages.\n"
     ]
    }
   ],
   "source": [
    "pip install qiskit-machine-learning"
   ]
  },
  {
   "cell_type": "markdown",
   "id": "eec4e55a-7039-454c-8407-de1be62e176d",
   "metadata": {},
   "source": [
    "Onnce Qiskit is installed, you can proceed with building a regression model. For simplicity, let's assume you want to build a linear regression model. The steps involved would be:\n",
    "\n",
    "- Import the necessary libraries.\n",
    "- Generate or load your dataset. (In this example, we'll use a synthetic dataset from Qiskit)\n",
    "- Prepare the quantum feature map.\n",
    "- Define your quantum instance.\n",
    "- Build and train the quantum support vector regression (QSVM) algorithm.\n",
    "- Make predictions using the trained model.\n",
    "- Evaluate the performance of the model."
   ]
  },
  {
   "cell_type": "markdown",
   "id": "ab87236f-4aa3-41bb-a443-bf43fcd962a1",
   "metadata": {},
   "source": [
    "### **Import the necessary libraries.**"
   ]
  },
  {
   "cell_type": "code",
   "execution_count": 3,
   "id": "94bd242d-9428-4d60-ab80-9f79501eb141",
   "metadata": {},
   "outputs": [],
   "source": [
    "import matplotlib.pyplot as plt\n",
    "import numpy as np\n",
    "from IPython.display import clear_output\n",
    "\n",
    "# Import core Qiskit modules\n",
    "from qiskit import QuantumCircuit\n",
    "\n",
    "# Import Qiskit algorithms and optimizers (updated for Qiskit 0.43+)\n",
    "from qiskit_algorithms.optimizers import COBYLA, L_BFGS_B\n",
    "\n",
    "# Import Qiskit circuit components\n",
    "from qiskit.circuit import Parameter\n",
    "from qiskit.circuit.library import RealAmplitudes, ZZFeatureMap\n",
    "\n",
    "# Import Qiskit Machine Learning components\n",
    "from qiskit_machine_learning.algorithms.classifiers import NeuralNetworkClassifier, VQC\n",
    "from qiskit_machine_learning.algorithms.regressors import NeuralNetworkRegressor, VQR\n",
    "from qiskit_machine_learning.neural_networks import SamplerQNN, EstimatorQNN\n"
   ]
  },
  {
   "cell_type": "markdown",
   "id": "17f60583-c95c-4699-af26-55d8ccef94d3",
   "metadata": {},
   "source": [
    "***Note: We have imported all quantum instance and quantum based machine learning dependencies.***"
   ]
  },
  {
   "cell_type": "markdown",
   "id": "d9496d52-3612-45db-a993-1731a10e9e77",
   "metadata": {},
   "source": [
    "### **0. Basic Regression**"
   ]
  },
  {
   "cell_type": "code",
   "execution_count": 4,
   "id": "e6e066c4-e20e-49f8-a5e4-16bc1cacb883",
   "metadata": {},
   "outputs": [
    {
     "data": {
      "image/png": "[encoded data removed]",
      "text/plain": [
       "<Figure size 800x500 with 1 Axes>"
      ]
     },
     "metadata": {},
     "output_type": "display_data"
    }
   ],
   "source": [
    "import numpy as np\n",
    "import matplotlib.pyplot as plt\n",
    "\n",
    "# Define sample regression dataset with 20 samples and noise level (epsilon)\n",
    "num_samples = 20\n",
    "eps = 0.2  # Noise level\n",
    "\n",
    "# Set the range for input values from -π to +π\n",
    "lb, ub = -np.pi, np.pi\n",
    "\n",
    "# Create a smooth target feature X for visualization (50 evenly spaced points)\n",
    "X_vis = np.linspace(lb, ub, num=50).reshape(-1, 1)\n",
    "\n",
    "# Define the target function: sine wave\n",
    "f = lambda x: np.sin(x)\n",
    "\n",
    "# Generate random training samples within the defined range using NumPy\n",
    "X = (ub - lb) * np.random.rand(num_samples, 1) + lb\n",
    "\n",
    "# Generate corresponding target values (y) with added noise\n",
    "y = f(X[:, 0]) + eps * (2 * np.random.rand(num_samples) - 1)\n",
    "\n",
    "# Plot the true function and the noisy sampled data\n",
    "plt.figure(figsize=(8, 5))\n",
    "plt.plot(X_vis, f(X_vis), \"r--\", label=\"True Function (sin(x))\")\n",
    "plt.scatter(X, y, color=\"blue\", label=\"Noisy Training Data\")\n",
    "plt.xlabel(\"X\")\n",
    "plt.ylabel(\"Y\")\n",
    "plt.legend()\n",
    "plt.title(\"Sample Regression Dataset\")\n",
    "plt.show()\n"
   ]
  },
  {
   "cell_type": "markdown",
   "id": "9aadc69e-5708-400b-8bde-1f31c721d13a",
   "metadata": {},
   "source": [
    "\n",
    "\n",
    "The generated dataset closely follows a **sinusoidal pattern**, as expected from the function \\( f(x) = \\sin(x) \\). The X range, set from **-π to +π** (-3.142 to 3.142), ensures that the data captures both **negative and positive slopes** of the sine wave.\n",
    "\n",
    "The scatter plot reflects a **noisy sinusoidal trend**, showing some variance due to the added random noise component. The red dashed line represents the true function \\( \\sin(x) \\), while the blue points illustrate the sampled noisy data.\n"
   ]
  },
  {
   "cell_type": "markdown",
   "id": "52e299cd-58a5-4207-9f3c-0b9e9be2d173",
   "metadata": {},
   "source": [
    "### **1. Regression with an EstimatorQNN**"
   ]
  },
  {
   "cell_type": "markdown",
   "id": "6ad35243-b4d6-4d57-a0db-d708ee77b95f",
   "metadata": {},
   "source": [
    "Feature maps and other sophisticated techniques are utilized to enhance prediction accuracy in Quantum Neural Networks (QNNs), enabling more advanced quantum machine learning models."
   ]
  },
  {
   "cell_type": "code",
   "execution_count": 5,
   "id": "2d8a3020-7086-432d-9ad7-9148f516caf7",
   "metadata": {},
   "outputs": [
    {
     "name": "stderr",
     "output_type": "stream",
     "text": [
      "C:\\Users\\jorda\\AppData\\Local\\Temp\\ipykernel_8120\\2615136534.py:26: DeprecationWarning: V1 Primitives are deprecated as of qiskit-machine-learning 0.8.0 and will be removed no sooner than 4 months after the release date. Use V2 primitives for continued compatibility and support.\n",
      "  regression_estimator_qnn = EstimatorQNN(\n"
     ]
    }
   ],
   "source": [
    "import matplotlib.pyplot as plt\n",
    "import numpy as np\n",
    "from IPython.display import clear_output\n",
    "from qiskit import QuantumCircuit\n",
    "from qiskit.circuit import Parameter\n",
    "from qiskit_machine_learning.neural_networks import EstimatorQNN  # Reverted to EstimatorQNN\n",
    "\n",
    "# Define parameters for feature map and ansatz\n",
    "param_x = Parameter(\"x\")\n",
    "param_y = Parameter(\"y\")\n",
    "\n",
    "# Construct a simple feature map (single qubit rotation)\n",
    "feature_map = QuantumCircuit(1, name=\"FeatureMap\")\n",
    "feature_map.ry(param_x, 0)\n",
    "\n",
    "# Construct a simple ansatz (single qubit rotation)\n",
    "ansatz = QuantumCircuit(1, name=\"VariationalForm\")\n",
    "ansatz.ry(param_y, 0)\n",
    "\n",
    "# Create the quantum circuit by composing feature map and ansatz\n",
    "qc = QuantumCircuit(1)\n",
    "qc.compose(feature_map, inplace=True)\n",
    "qc.compose(ansatz, inplace=True)\n",
    "\n",
    "# Construct Quantum Neural Network (QNN) using EstimatorQNN\n",
    "regression_estimator_qnn = EstimatorQNN(\n",
    "    circuit=qc, \n",
    "    input_params=feature_map.parameters, \n",
    "    weight_params=ansatz.parameters\n",
    ")\n",
    "\n",
    "# Callback function for plotting objective function values\n",
    "objective_func_vals = []\n",
    "\n",
    "def callback_graph(weights, obj_func_eval):\n",
    "    \"\"\"Callback function to visualize objective function progression.\"\"\"\n",
    "    clear_output(wait=True)\n",
    "    objective_func_vals.append(obj_func_eval)\n",
    "    plt.figure(figsize=(8, 5))\n",
    "    plt.title(\"Objective Function Value vs. Iteration\")\n",
    "    plt.xlabel(\"Iteration\")\n",
    "    plt.ylabel(\"Objective Function Value\")\n",
    "    plt.plot(range(len(objective_func_vals)), objective_func_vals, marker='o', linestyle='-')\n",
    "    plt.grid(True)\n",
    "    plt.show()\n"
   ]
  },
  {
   "cell_type": "code",
   "execution_count": 6,
   "id": "601db1f3-c664-49f1-8e44-536a775cff86",
   "metadata": {},
   "outputs": [],
   "source": [
    "# construct the regressor from the neural network\n",
    "regressor = NeuralNetworkRegressor(\n",
    "    neural_network=regression_estimator_qnn,\n",
    "    loss=\"squared_error\",\n",
    "    optimizer=L_BFGS_B(maxiter=5),\n",
    "    callback=callback_graph,\n",
    ")"
   ]
  },
  {
   "cell_type": "code",
   "execution_count": 7,
   "id": "964ca508-7afc-4d83-9313-9840af682abe",
   "metadata": {},
   "outputs": [
    {
     "data": {
      "image/png": "[encoded data removed]",
      "text/plain": [
       "<Figure size 800x500 with 1 Axes>"
      ]
     },
     "metadata": {},
     "output_type": "display_data"
    }
   ],
   "source": [
    "import matplotlib.pyplot as plt\n",
    "import numpy as np\n",
    "from IPython.display import clear_output\n",
    "\n",
    "# Create empty array for tracking objective function values\n",
    "objective_func_vals = []\n",
    "plt.rcParams[\"figure.figsize\"] = (12, 6)\n",
    "\n",
    "# Fit the regressor to data (manually tracking the objective function)\n",
    "for i in range(10):  # Adjust iteration count based on training steps\n",
    "    regressor.fit(X, y)  # Fit model at each step\n",
    "    score = regressor.score(X, y)  # Get objective function value\n",
    "    objective_func_vals.append(score)  # Store score\n",
    "    \n",
    "    # Plot progress dynamically\n",
    "    clear_output(wait=True)\n",
    "    plt.figure(figsize=(8, 5))\n",
    "    plt.title(\"Objective Function Value vs. Iteration\")\n",
    "    plt.xlabel(\"Iteration\")\n",
    "    plt.ylabel(\"Objective Function Value\")\n",
    "    plt.plot(range(len(objective_func_vals)), objective_func_vals, marker='o', linestyle='-')\n",
    "    plt.grid(True)\n",
    "    plt.show()\n",
    "\n",
    "# Return to default figure size\n",
    "plt.rcParams[\"figure.figsize\"] = (6, 4)\n",
    "\n"
   ]
  },
  {
   "cell_type": "code",
   "execution_count": 8,
   "id": "73f95e5e-0c48-40e4-a63c-9015e9da5377",
   "metadata": {},
   "outputs": [
    {
     "data": {
      "text/plain": [
       "0.9766095027937298"
      ]
     },
     "execution_count": 8,
     "metadata": {},
     "output_type": "execute_result"
    }
   ],
   "source": [
    "# create empty array for callback to store evaluations of the objective function\n",
    "objective_func_vals = []\n",
    "plt.rcParams[\"figure.figsize\"] = (12, 6)\n",
    "\n",
    "# fit to data\n",
    "regressor.fit(X, y)\n",
    "\n",
    "# return to default figsize\n",
    "plt.rcParams[\"figure.figsize\"] = (6, 4)\n",
    "\n",
    "# score the result\n",
    "regressor.score(X, y)"
   ]
  },
  {
   "cell_type": "markdown",
   "id": "6b7f611e-fa7d-4a16-a2e5-a1011fe7581b",
   "metadata": {},
   "source": [
    "Our model achieved a **97% regression accuracy**, benefiting from the error-free nature of the inbuilt dataset. However, reaching **100% accuracy** was constrained by computational limitations."
   ]
  },
  {
   "cell_type": "markdown",
   "id": "b72520c9-d63c-444c-b6a8-6dd0f503087a",
   "metadata": {},
   "source": [
    "### **2. Clustering with Qiskit**"
   ]
  },
  {
   "cell_type": "markdown",
   "id": "2c5b85a3-352d-430c-ac97-489ab760a2d8",
   "metadata": {},
   "source": [
    "Clustering using Qiskit and classical machine learning involves integrating quantum techniques with traditional methods to enhance data segmentation. Below is a structured approach:\n",
    "\n",
    "- **Data Preprocessing**\n",
    "    - Normalize, scale, or transform the dataset for effective quantum processing.\n",
    "    - Ensure compatibility with quantum encoding techniques.\n",
    "- **Selecting a Quantum Algorithm**\n",
    "    - Qiskit provides quantum clustering approaches such as the Quantum Variational Eigensolver (QVE), which can be adapted for clustering tasks.\n",
    "- **Quantum Data Encoding**\n",
    "    - Classical data is mapped to quantum states using techniques like amplitude encoding or quantum feature maps for efficient representation.\n",
    "- **Quantum Circuit Design**\n",
    "    - Construct a quantum circuit that encodes data and applies transformations that reflect clustering properties.\n",
    "- **Variational Optimization**\n",
    "    - Quantum clustering often involves variational algorithms, where quantum parameters are iteratively optimized to minimize a clustering-related cost function.\n",
    "- **Quantum Measurement and Post-Processing**\n",
    "    - Extract clustering insights from the quantum state through qubit measurements.\n",
    "    - Apply classical post-processing to refine cluster assignments.\n",
    "- **Comparison with Classical Methods**\n",
    "    - Validate quantum clustering performance against classical approaches such as K-Means or DBSCAN.\n",
    "    - Use evaluation metrics (e.g., Silhouette Score, Davies-Bouldin Index) to assess effectiveness.\n",
    "- **Final Post-Processing and Visualization**\n",
    "    - Assign cluster labels based on quantum results.\n",
    "    - Visualize the clusters using classical methods for interpretability.\n",
    "                                            \n",
    "This hybrid approach leverages quantum computing for enhanced pattern recognition, while classical techniques ensure robust validation and practical usability"
   ]
  },
  {
   "cell_type": "code",
   "execution_count": 9,
   "id": "9dd852ef-b83d-4b87-aec9-01edb804e4a3",
   "metadata": {},
   "outputs": [
    {
     "name": "stdout",
     "output_type": "stream",
     "text": [
      "Requirement already satisfied: qiskit.optimization in c:\\users\\jorda\\appdata\\local\\programs\\python\\python313\\lib\\site-packages (0.6.1)Note: you may need to restart the kernel to use updated packages.\n",
      "\n",
      "Requirement already satisfied: qiskit>=0.44 in c:\\users\\jorda\\appdata\\local\\programs\\python\\python313\\lib\\site-packages (from qiskit.optimization) (1.4.1)\n",
      "Requirement already satisfied: qiskit-algorithms>=0.2.0 in c:\\users\\jorda\\appdata\\local\\programs\\python\\python313\\lib\\site-packages (from qiskit.optimization) (0.3.1)\n",
      "Requirement already satisfied: scipy>=1.9.0 in c:\\users\\jorda\\appdata\\local\\programs\\python\\python313\\lib\\site-packages (from qiskit.optimization) (1.15.2)\n",
      "Requirement already satisfied: numpy>=1.17 in c:\\users\\jorda\\appdata\\local\\programs\\python\\python313\\lib\\site-packages (from qiskit.optimization) (2.2.3)\n",
      "Requirement already satisfied: docplex!=2.24.231,>=2.21.207 in c:\\users\\jorda\\appdata\\local\\programs\\python\\python313\\lib\\site-packages (from qiskit.optimization) (2.29.241)\n",
      "Requirement already satisfied: setuptools>=40.1.0 in c:\\users\\jorda\\appdata\\local\\programs\\python\\python313\\lib\\site-packages (from qiskit.optimization) (75.8.0)\n",
      "Requirement already satisfied: networkx>=2.6.3 in c:\\users\\jorda\\appdata\\local\\programs\\python\\python313\\lib\\site-packages (from qiskit.optimization) (3.4.2)\n",
      "Requirement already satisfied: six in c:\\users\\jorda\\appdata\\local\\programs\\python\\python313\\lib\\site-packages (from docplex!=2.24.231,>=2.21.207->qiskit.optimization) (1.17.0)\n",
      "Requirement already satisfied: rustworkx>=0.15.0 in c:\\users\\jorda\\appdata\\local\\programs\\python\\python313\\lib\\site-packages (from qiskit>=0.44->qiskit.optimization) (0.16.0)\n",
      "Requirement already satisfied: sympy>=1.3 in c:\\users\\jorda\\appdata\\local\\programs\\python\\python313\\lib\\site-packages (from qiskit>=0.44->qiskit.optimization) (1.13.3)\n",
      "Requirement already satisfied: dill>=0.3 in c:\\users\\jorda\\appdata\\local\\programs\\python\\python313\\lib\\site-packages (from qiskit>=0.44->qiskit.optimization) (0.3.9)\n",
      "Requirement already satisfied: python-dateutil>=2.8.0 in c:\\users\\jorda\\appdata\\local\\programs\\python\\python313\\lib\\site-packages (from qiskit>=0.44->qiskit.optimization) (2.9.0.post0)\n",
      "Requirement already satisfied: stevedore>=3.0.0 in c:\\users\\jorda\\appdata\\local\\programs\\python\\python313\\lib\\site-packages (from qiskit>=0.44->qiskit.optimization) (5.4.1)\n",
      "Requirement already satisfied: typing-extensions in c:\\users\\jorda\\appdata\\local\\programs\\python\\python313\\lib\\site-packages (from qiskit>=0.44->qiskit.optimization) (4.12.2)\n",
      "Requirement already satisfied: symengine<0.14,>=0.11 in c:\\users\\jorda\\appdata\\local\\programs\\python\\python313\\lib\\site-packages (from qiskit>=0.44->qiskit.optimization) (0.13.0)\n",
      "Requirement already satisfied: pbr>=2.0.0 in c:\\users\\jorda\\appdata\\local\\programs\\python\\python313\\lib\\site-packages (from stevedore>=3.0.0->qiskit>=0.44->qiskit.optimization) (6.1.1)\n",
      "Requirement already satisfied: mpmath<1.4,>=1.1.0 in c:\\users\\jorda\\appdata\\local\\programs\\python\\python313\\lib\\site-packages (from sympy>=1.3->qiskit>=0.44->qiskit.optimization) (1.3.0)\n"
     ]
    }
   ],
   "source": [
    "pip install qiskit.optimization"
   ]
  },
  {
   "cell_type": "code",
   "execution_count": 10,
   "id": "b8b60050-5b17-49bd-a0b3-eab5fbbd665c",
   "metadata": {},
   "outputs": [
    {
     "name": "stdout",
     "output_type": "stream",
     "text": [
      "Requirement already satisfied: qiskit-optimization in c:\\users\\jorda\\appdata\\local\\programs\\python\\python313\\lib\\site-packages (0.6.1)\n",
      "Requirement already satisfied: qiskit>=0.44 in c:\\users\\jorda\\appdata\\local\\programs\\python\\python313\\lib\\site-packages (from qiskit-optimization) (1.4.1)\n",
      "Requirement already satisfied: qiskit-algorithms>=0.2.0 in c:\\users\\jorda\\appdata\\local\\programs\\python\\python313\\lib\\site-packages (from qiskit-optimization) (0.3.1)\n",
      "Requirement already satisfied: scipy>=1.9.0 in c:\\users\\jorda\\appdata\\local\\programs\\python\\python313\\lib\\site-packages (from qiskit-optimization) (1.15.2)\n",
      "Requirement already satisfied: numpy>=1.17 in c:\\users\\jorda\\appdata\\local\\programs\\python\\python313\\lib\\site-packages (from qiskit-optimization) (2.2.3)\n",
      "Requirement already satisfied: docplex!=2.24.231,>=2.21.207 in c:\\users\\jorda\\appdata\\local\\programs\\python\\python313\\lib\\site-packages (from qiskit-optimization) (2.29.241)\n",
      "Requirement already satisfied: setuptools>=40.1.0 in c:\\users\\jorda\\appdata\\local\\programs\\python\\python313\\lib\\site-packages (from qiskit-optimization) (75.8.0)\n",
      "Requirement already satisfied: networkx>=2.6.3 in c:\\users\\jorda\\appdata\\local\\programs\\python\\python313\\lib\\site-packages (from qiskit-optimization) (3.4.2)\n",
      "Requirement already satisfied: six in c:\\users\\jorda\\appdata\\local\\programs\\python\\python313\\lib\\site-packages (from docplex!=2.24.231,>=2.21.207->qiskit-optimization) (1.17.0)\n",
      "Requirement already satisfied: rustworkx>=0.15.0 in c:\\users\\jorda\\appdata\\local\\programs\\python\\python313\\lib\\site-packages (from qiskit>=0.44->qiskit-optimization) (0.16.0)\n",
      "Requirement already satisfied: sympy>=1.3 in c:\\users\\jorda\\appdata\\local\\programs\\python\\python313\\lib\\site-packages (from qiskit>=0.44->qiskit-optimization) (1.13.3)\n",
      "Requirement already satisfied: dill>=0.3 in c:\\users\\jorda\\appdata\\local\\programs\\python\\python313\\lib\\site-packages (from qiskit>=0.44->qiskit-optimization) (0.3.9)\n",
      "Requirement already satisfied: python-dateutil>=2.8.0 in c:\\users\\jorda\\appdata\\local\\programs\\python\\python313\\lib\\site-packages (from qiskit>=0.44->qiskit-optimization) (2.9.0.post0)\n",
      "Requirement already satisfied: stevedore>=3.0.0 in c:\\users\\jorda\\appdata\\local\\programs\\python\\python313\\lib\\site-packages (from qiskit>=0.44->qiskit-optimization) (5.4.1)\n",
      "Requirement already satisfied: typing-extensions in c:\\users\\jorda\\appdata\\local\\programs\\python\\python313\\lib\\site-packages (from qiskit>=0.44->qiskit-optimization) (4.12.2)\n",
      "Requirement already satisfied: symengine<0.14,>=0.11 in c:\\users\\jorda\\appdata\\local\\programs\\python\\python313\\lib\\site-packages (from qiskit>=0.44->qiskit-optimization) (0.13.0)\n",
      "Requirement already satisfied: pbr>=2.0.0 in c:\\users\\jorda\\appdata\\local\\programs\\python\\python313\\lib\\site-packages (from stevedore>=3.0.0->qiskit>=0.44->qiskit-optimization) (6.1.1)\n",
      "Requirement already satisfied: mpmath<1.4,>=1.1.0 in c:\\users\\jorda\\appdata\\local\\programs\\python\\python313\\lib\\site-packages (from sympy>=1.3->qiskit>=0.44->qiskit-optimization) (1.3.0)\n"
     ]
    }
   ],
   "source": [
    "!pip install qiskit-optimization"
   ]
  },
  {
   "cell_type": "code",
   "execution_count": 11,
   "id": "b710c88e-7820-4659-8714-782aa469f934",
   "metadata": {},
   "outputs": [
    {
     "name": "stdout",
     "output_type": "stream",
     "text": [
      "0.16.4\n"
     ]
    }
   ],
   "source": [
    "import qiskit_aer\n",
    "print(qiskit_aer.__version__)\n"
   ]
  },
  {
   "cell_type": "code",
   "execution_count": 12,
   "id": "41142671-cfe5-47f9-81e0-1c481a598b35",
   "metadata": {
    "scrolled": true
   },
   "outputs": [],
   "source": [
    "from qiskit_aer import Aer\n",
    "from qiskit import QuantumCircuit, transpile, assemble\n"
   ]
  },
  {
   "cell_type": "code",
   "execution_count": 13,
   "id": "baf657a8-aceb-4577-ba0f-b83e81c35af9",
   "metadata": {},
   "outputs": [],
   "source": [
    "import numpy as np\n",
    "from docplex.mp.model import Model\n",
    "\n",
    "# Qiskit Optimization imports\n",
    "from qiskit_optimization.algorithms import MinimumEigenOptimizer\n",
    "from qiskit_optimization.translators import from_docplex_mp\n",
    "\n",
    "# Updated Qiskit imports for Qiskit 0.45+\n",
    "from qiskit.primitives import Sampler\n",
    "from qiskit_algorithms.minimum_eigensolvers import QAOA, VQE\n",
    "from qiskit_algorithms.optimizers import SPSA, COBYLA\n",
    "\n",
    "# Use NumPy for randomness\n",
    "np.random.seed(42)  # Set random seed\n",
    "\n"
   ]
  },
  {
   "cell_type": "code",
   "execution_count": 14,
   "id": "4bab7ac6-4692-416f-987d-4e9adbe01754",
   "metadata": {},
   "outputs": [],
   "source": [
    "# new version of RYRZ(wave function) is ZZfeaturemap\n",
    "from qiskit.circuit.library import ZZFeatureMap\n",
    "from sklearn.datasets import make_blobs\n",
    "\n",
    "# Simulated Quantum Backend\n",
    "backend = Aer.get_backend('statevector_simulator')\n",
    "\n",
    "# Generate sample data\n",
    "data, _ = make_blobs(n_samples=100, centers=3, random_state=42)"
   ]
  },
  {
   "cell_type": "code",
   "execution_count": 15,
   "id": "bfe5e126-26fd-4809-b87a-43071234a7e3",
   "metadata": {},
   "outputs": [],
   "source": [
    "# Encode data quantumly (simplified example)\n",
    "def quantum_state_encoding(circuit, data):\n",
    "    # Encode data using amplitude encoding\n",
    "    for i, point in enumerate(data):\n",
    "        for j, feature in enumerate(point):\n",
    "            circuit.ry(feature, qubit=j)\n",
    "\n",
    "# Create a quantum circuit\n",
    "num_qubits = len(data[2])\n",
    "num_data_points = len(data)\n",
    "qc = QuantumCircuit(num_qubits, num_qubits)\n",
    "quantum_state_encoding(qc, data)"
   ]
  },
  {
   "cell_type": "code",
   "execution_count": 16,
   "id": "98993484-21a8-49a7-ae2e-64caaae26422",
   "metadata": {},
   "outputs": [],
   "source": [
    "# Define a variational form\n",
    "var_form = ZZFeatureMap(num_qubits)\n",
    "\n",
    "# Define the cost function\n",
    "def cost_function(params):\n",
    "    circuit = qc.copy()\n",
    "    circuit = var_form.construct_circuit(params, circuit)\n",
    "    job = assemble(transpile(circuit, backend=backend))\n",
    "    result = backend.run(job).result()\n",
    "    statevector = result.get_statevector()\n",
    "    \n",
    "    # Calculate some measure of the cost based on quantum statevector\n",
    "    \n",
    "    return cost"
   ]
  },
  {
   "cell_type": "code",
   "execution_count": 17,
   "id": "ae882823-680c-4b43-b0a8-eda0e6b4416e",
   "metadata": {},
   "outputs": [
    {
     "name": "stdout",
     "output_type": "stream",
     "text": [
      "Requirement already satisfied: qiskit-optimization[cplex] in c:\\users\\jorda\\appdata\\local\\programs\\python\\python313\\lib\\site-packages (0.6.1)\n",
      "Requirement already satisfied: qiskit>=0.44 in c:\\users\\jorda\\appdata\\local\\programs\\python\\python313\\lib\\site-packages (from qiskit-optimization[cplex]) (1.4.1)\n",
      "Requirement already satisfied: qiskit-algorithms>=0.2.0 in c:\\users\\jorda\\appdata\\local\\programs\\python\\python313\\lib\\site-packages (from qiskit-optimization[cplex]) (0.3.1)\n",
      "Requirement already satisfied: scipy>=1.9.0 in c:\\users\\jorda\\appdata\\local\\programs\\python\\python313\\lib\\site-packages (from qiskit-optimization[cplex]) (1.15.2)\n",
      "Requirement already satisfied: numpy>=1.17 in c:\\users\\jorda\\appdata\\local\\programs\\python\\python313\\lib\\site-packages (from qiskit-optimization[cplex]) (2.2.3)\n",
      "Requirement already satisfied: docplex!=2.24.231,>=2.21.207 in c:\\users\\jorda\\appdata\\local\\programs\\python\\python313\\lib\\site-packages (from qiskit-optimization[cplex]) (2.29.241)\n",
      "Requirement already satisfied: setuptools>=40.1.0 in c:\\users\\jorda\\appdata\\local\\programs\\python\\python313\\lib\\site-packages (from qiskit-optimization[cplex]) (75.8.0)\n",
      "Requirement already satisfied: networkx>=2.6.3 in c:\\users\\jorda\\appdata\\local\\programs\\python\\python313\\lib\\site-packages (from qiskit-optimization[cplex]) (3.4.2)\n",
      "Requirement already satisfied: six in c:\\users\\jorda\\appdata\\local\\programs\\python\\python313\\lib\\site-packages (from docplex!=2.24.231,>=2.21.207->qiskit-optimization[cplex]) (1.17.0)\n",
      "Requirement already satisfied: rustworkx>=0.15.0 in c:\\users\\jorda\\appdata\\local\\programs\\python\\python313\\lib\\site-packages (from qiskit>=0.44->qiskit-optimization[cplex]) (0.16.0)\n",
      "Requirement already satisfied: sympy>=1.3 in c:\\users\\jorda\\appdata\\local\\programs\\python\\python313\\lib\\site-packages (from qiskit>=0.44->qiskit-optimization[cplex]) (1.13.3)\n",
      "Requirement already satisfied: dill>=0.3 in c:\\users\\jorda\\appdata\\local\\programs\\python\\python313\\lib\\site-packages (from qiskit>=0.44->qiskit-optimization[cplex]) (0.3.9)\n",
      "Requirement already satisfied: python-dateutil>=2.8.0 in c:\\users\\jorda\\appdata\\local\\programs\\python\\python313\\lib\\site-packages (from qiskit>=0.44->qiskit-optimization[cplex]) (2.9.0.post0)\n",
      "Requirement already satisfied: stevedore>=3.0.0 in c:\\users\\jorda\\appdata\\local\\programs\\python\\python313\\lib\\site-packages (from qiskit>=0.44->qiskit-optimization[cplex]) (5.4.1)\n",
      "Requirement already satisfied: typing-extensions in c:\\users\\jorda\\appdata\\local\\programs\\python\\python313\\lib\\site-packages (from qiskit>=0.44->qiskit-optimization[cplex]) (4.12.2)\n",
      "Requirement already satisfied: symengine<0.14,>=0.11 in c:\\users\\jorda\\appdata\\local\\programs\\python\\python313\\lib\\site-packages (from qiskit>=0.44->qiskit-optimization[cplex]) (0.13.0)\n",
      "Requirement already satisfied: pbr>=2.0.0 in c:\\users\\jorda\\appdata\\local\\programs\\python\\python313\\lib\\site-packages (from stevedore>=3.0.0->qiskit>=0.44->qiskit-optimization[cplex]) (6.1.1)\n",
      "Requirement already satisfied: mpmath<1.4,>=1.1.0 in c:\\users\\jorda\\appdata\\local\\programs\\python\\python313\\lib\\site-packages (from sympy>=1.3->qiskit>=0.44->qiskit-optimization[cplex]) (1.3.0)\n",
      "Note: you may need to restart the kernel to use updated packages.\n"
     ]
    }
   ],
   "source": [
    "pip install qiskit-optimization[cplex]"
   ]
  },
  {
   "cell_type": "code",
   "execution_count": 18,
   "id": "7e54593c-68df-481b-8d66-ad94f0997d23",
   "metadata": {},
   "outputs": [
    {
     "name": "stdout",
     "output_type": "stream",
     "text": [
      "['x1', 'x2', 'x3']\n"
     ]
    }
   ],
   "source": [
    "from qiskit_optimization import QuadraticProgram\n",
    "from qiskit_optimization.algorithms import CplexOptimizer\n",
    "# Run a Quadratic Problem\n",
    "problem = QuadraticProgram()\n",
    "problem.binary_var('x1')\n",
    "problem.binary_var('x2')\n",
    "problem.binary_var('x3')\n",
    "problem.minimize(linear={'x1': 1, 'x2': -2, 'x3': 3})\n",
    "print([var.name for var in problem.variables])"
   ]
  },
  {
   "cell_type": "code",
   "execution_count": 19,
   "id": "435f73fe-3a02-4d2e-adbb-cf089ee1a807",
   "metadata": {},
   "outputs": [],
   "source": [
    "from qiskit_optimization.algorithms import CplexOptimizer"
   ]
  },
  {
   "cell_type": "code",
   "execution_count": null,
   "id": "0bfd4719-4136-4e1a-a9ef-d1d29bdbfe96",
   "metadata": {},
   "outputs": [],
   "source": [
    "#Optimizer\n",
    "optimizer = CplexOptimizer()\n",
    "result = optimizer.solve(problem)\n",
    "print(result.variable_names)\n",
    "print(result.x)\n",
    "print(result[1])\n",
    "print(result['x1'])\n",
    "print(result.fval)\n",
    "print(result.variables_dict)"
   ]
  },
  {
   "cell_type": "raw",
   "id": "15cd6a1f-f8ae-4b4d-a2b9-4976c7e88b7c",
   "metadata": {},
   "source": [
    "this should be the correct output: \n",
    "['x1', 'x2', 'x3']\n",
    "[0. 1. 0.]\n",
    "1.0\n",
    "0.0\n",
    "-2.0\n",
    "{'x1': 0.0, 'x2': 1.0, 'x3': 0.0}"
   ]
  },
  {
   "cell_type": "markdown",
   "id": "e6659ba8-d379-4fb5-ba9d-1352c40ba6e7",
   "metadata": {},
   "source": [
    "### **Conclusion**"
   ]
  },
  {
   "cell_type": "markdown",
   "id": "4bddd55f-ff83-4b86-b8c3-6afccea4da89",
   "metadata": {},
   "source": [
    "This study demonstrates the application of quantum-enhanced regression techniques in function approximation. By leveraging quantum feature encoding and variational circuits, the model successfully captures complex, non-linear patterns present in noisy data. The results highlight the potential of quantum machine learning as a viable alternative to classical regression techniques for specific applications."
   ]
  },
  {
   "cell_type": "markdown",
   "id": "f790280c-98b3-4b4a-9e43-4d01fc7bc7dc",
   "metadata": {},
   "source": [
    "- The optimizer correctly identifies **x₂ = 1** as the best choice since its coefficient (-2) is the lowest, minimizing the objective function.\n",
    "- The **CplexOptimizer** is being used for **binary integer programming**, which is particularly useful in **combinatorial optimization problems**.\n"
   ]
  }
 ],
 "metadata": {
  "kernelspec": {
   "display_name": "Python 3 (ipykernel)",
   "language": "python",
   "name": "python3"
  },
  "language_info": {
   "codemirror_mode": {
    "name": "ipython",
    "version": 3
   },
   "file_extension": ".py",
   "mimetype": "text/x-python",
   "name": "python",
   "nbconvert_exporter": "python",
   "pygments_lexer": "ipython3",
   "version": "3.13.2"
  }
 },
 "nbformat": 4,
 "nbformat_minor": 5
}
